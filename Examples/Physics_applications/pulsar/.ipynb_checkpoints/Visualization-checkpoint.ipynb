{
 "cells": [
  {
   "cell_type": "markdown",
   "metadata": {},
   "source": [
    "# Overview\n",
    "\n",
    "This a notebook that inspects the results of a WarpX simulation."
   ]
  },
  {
   "cell_type": "code",
   "execution_count": 1,
   "metadata": {},
   "outputs": [
    {
     "name": "stderr",
     "output_type": "stream",
     "text": [
      "/home/revanathan/.local/lib/python3.9/site-packages/yt/utilities/logger.py:4: VisibleDeprecationWarning: The configuration file /home/revanathan/.config/yt/ytrc is deprecated in favor of /home/revanathan/.config/yt/yt.toml. Currently, both are present. Please manually remove the deprecated one to silence this warning.\n",
      "Deprecated since v4.0.0. This feature will be removed in v4.1.0\n",
      "  from yt.config import ytcfg\n"
     ]
    }
   ],
   "source": [
    "# Import statements\n",
    "import yt ; yt.funcs.mylog.setLevel(50)\n",
    "import numpy as np\n",
    "import scipy.constants as scc\n",
    "import matplotlib.pyplot as plt\n",
    "%matplotlib notebook"
   ]
  },
  {
   "cell_type": "markdown",
   "metadata": {},
   "source": [
    "## Read data in the simulation frame"
   ]
  },
  {
   "cell_type": "markdown",
   "metadata": {},
   "source": [
    "# Instruction\n",
    "\n",
    "Enter the path of the data you wish to visualize below. Then execute the cells one by one, by selecting them with your mouse and typing `Shift + Enter`"
   ]
  },
  {
   "cell_type": "code",
   "execution_count": 8,
   "metadata": {},
   "outputs": [],
   "source": [
    "diag_name = 'plt' # E.g., diagnostics.diags_names = diag\n",
    "iteration = 0\n",
    "plotfile = './diags/{}{:05d}'.format(diag_name, iteration)\n",
    "field = 'Ez'\n",
    "species = 'electron'\n",
    "ds = yt.load( plotfile ) # Load the plotfile\n",
    "# ds.field_list # Print all available quantities"
   ]
  },
  {
   "cell_type": "markdown",
   "metadata": {},
   "source": [
    "### Plot data with yt"
   ]
  },
  {
   "cell_type": "code",
   "execution_count": 9,
   "metadata": {},
   "outputs": [
    {
     "name": "stderr",
     "output_type": "stream",
     "text": [
      "/home/revanathan/.local/lib/python3.9/site-packages/yt/data_objects/data_containers.py:1421: VisibleDeprecationWarning: The requested field name 'Ez' is ambiguous and corresponds to any one of the following field types:\n",
      " {'mesh'}\n",
      "Please specify the requested field as an explicit tuple (ftype, fname).\n",
      "Defaulting to '(\"mesh\", \"Ez\")'.\n",
      "Deprecated since v4.0.0. This feature will be removed in v4.1.0\n",
      "  finfo = self.ds._get_field_info(field)\n",
      "/home/revanathan/.local/lib/python3.9/site-packages/yt/data_objects/data_containers.py:1421: VisibleDeprecationWarning: The requested field name 'Ez' is ambiguous and corresponds to any one of the following field types:\n",
      " {'mesh'}\n",
      "Please specify the requested field as an explicit tuple (ftype, fname).\n",
      "Defaulting to '(\"boxlib\", \"Ez\")'.\n",
      "Deprecated since v4.0.0. This feature will be removed in v4.1.0\n",
      "  finfo = self.ds._get_field_info(field)\n"
     ]
    },
    {
     "data": {
      "text/html": [
       "<img style=\"max-width:100%;max-height:100%;\" src=\"data:image/png;base64,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\"><br>"
      ],
      "text/plain": [
       "<yt.visualization.plot_window.AxisAlignedSlicePlot at 0x7fb2d44b9370>"
      ]
     },
     "metadata": {},
     "output_type": "display_data"
    }
   ],
   "source": [
    "sl = yt.SlicePlot(ds, 0, field, aspect=.2) # Create a sliceplot object\n",
    "#sl.annotate_particles(width=(10.e-6, 'm'), p_size=2, ptype=species, col='black')\n",
    "#sl.annotate_grids() # Show grids\n",
    "sl.show() # Show the plot"
   ]
  },
  {
   "cell_type": "markdown",
   "metadata": {},
   "source": [
    "### Store quantities in numpy arrays, and plot with matplotlib"
   ]
  },
  {
   "cell_type": "code",
   "execution_count": null,
   "metadata": {},
   "outputs": [],
   "source": [
    "# Get field quantities\n",
    "all_data_level_0 = ds.covering_grid(level=0,left_edge=ds.domain_left_edge, dims=ds.domain_dimensions)\n",
    "Bx = all_data_level_0['boxlib', field].v.squeeze()\n",
    "Dx = ds.domain_width/ds.domain_dimensions\n",
    "extent = [ds.domain_left_edge[ds.dimensionality-1], ds.domain_right_edge[ds.dimensionality-1],\n",
    "          ds.domain_left_edge[0], ds.domain_right_edge[0] ]\n",
    "\n",
    "# Get particle quantities\n",
    "ad = ds.all_data()\n",
    "x = ad[species, 'particle_position_x'].v\n",
    "z = ad[species, 'particle_position_z'].v\n",
    "\n",
    "# Plot image\n",
    "plt.figure()\n",
    "plt.imshow(Bx[:,Bx.shape[1]//2,:], extent=extent, aspect='auto')\n",
    "plt.scatter(z,x,s=.1,c='k')"
   ]
  },
  {
   "cell_type": "markdown",
   "metadata": {},
   "source": [
    "## Read data back-transformed to the lab frame when the simulation runs in the boosted frame (example: 2D run)"
   ]
  },
  {
   "cell_type": "code",
   "execution_count": null,
   "metadata": {},
   "outputs": [],
   "source": [
    "# read_raw_data.py is located in warpx/Tools.\n",
    "import os, glob\n",
    "import read_raw_data"
   ]
  },
  {
   "cell_type": "code",
   "execution_count": null,
   "metadata": {},
   "outputs": [],
   "source": [
    "iteration = 1\n",
    "\n",
    "snapshot = './lab_frame_data/' + 'snapshot' + str(iteration).zfill(5)\n",
    "header   = './lab_frame_data/Header'\n",
    "allrd, info = read_raw_data.read_lab_snapshot(snapshot, header) # Read field data\n",
    "F = allrd[field]\n",
    "print( \"Available info: \", list(info.keys()) )\n",
    "print(\"Available fields: \", info['field_names'])\n",
    "nx = info['nx']\n",
    "nz = info['nz']\n",
    "x = info['x']\n",
    "z = info['z']\n",
    "xbo  = read_raw_data.get_particle_field(snapshot, species, 'x') # Read particle data\n",
    "ybo  = read_raw_data.get_particle_field(snapshot, species, 'y')\n",
    "zbo  = read_raw_data.get_particle_field(snapshot, species, 'z')\n",
    "uzbo = read_raw_data.get_particle_field(snapshot, species, 'uz')\n",
    "\n",
    "plt.figure(figsize=(6, 3))\n",
    "extent = np.array([info['zmin'], info['zmax'], info['xmin'], info['xmax']])\n",
    "plt.imshow(F[:,F.shape[1]//2,:], aspect='auto', extent=extent, cmap='seismic')\n",
    "plt.colorbar()\n",
    "plt.plot(zbo, xbo, 'g.', markersize=1.)\n"
   ]
  },
  {
   "cell_type": "markdown",
   "metadata": {},
   "source": [
    "## Read back-transformed data with hdf5 format (example: 3D run)"
   ]
  },
  {
   "cell_type": "code",
   "execution_count": null,
   "metadata": {},
   "outputs": [],
   "source": [
    "import h5py\n",
    "import matplotlib.pyplot as plt\n",
    "f = h5py.File('HDF5_lab_frame_data/snapshot00003', 'r')\n",
    "print( list(f.keys()) )\n",
    "# plt.figure()\n",
    "plt.imshow(f['Ey'][:,,:])"
   ]
  }
 ],
 "metadata": {
  "anaconda-cloud": {},
  "kernelspec": {
   "display_name": "Python 3",
   "language": "python",
   "name": "python3"
  },
  "language_info": {
   "codemirror_mode": {
    "name": "ipython",
    "version": 3
   },
   "file_extension": ".py",
   "mimetype": "text/x-python",
   "name": "python",
   "nbconvert_exporter": "python",
   "pygments_lexer": "ipython3",
   "version": "3.9.5"
  },
  "widgets": {
   "state": {
    "11d243e9f5074fe1b115949d174d59de": {
     "views": [
      {
       "cell_index": 6
      }
     ]
    }
   },
   "version": "1.2.0"
  }
 },
 "nbformat": 4,
 "nbformat_minor": 1
}
