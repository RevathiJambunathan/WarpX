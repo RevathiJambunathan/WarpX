{
 "cells": [
  {
   "cell_type": "markdown",
   "metadata": {},
   "source": [
    "# Overview\n",
    "\n",
    "This a notebook that inspects the results of a WarpX simulation.\n",
    "\n",
    "# Instruction\n",
    "\n",
    "Enter the path of the data you wish to visualize below. Then execute the cells one by one, by selecting them with your mouse and typing `Shift + Enter`"
   ]
  },
  {
   "cell_type": "code",
   "execution_count": 1,
   "metadata": {},
   "outputs": [],
   "source": [
    "# Import statements\n",
    "import yt ; yt.funcs.mylog.setLevel(50)\n",
    "import numpy as np\n",
    "import scipy.constants as scc\n",
    "import matplotlib.pyplot as plt\n",
    "%matplotlib notebook"
   ]
  },
  {
   "cell_type": "markdown",
   "metadata": {},
   "source": [
    "## Read data in the simulation frame"
   ]
  },
  {
   "cell_type": "markdown",
   "metadata": {},
   "source": [
    "### Plot data with yt"
   ]
  },
  {
   "cell_type": "code",
   "execution_count": 4,
   "metadata": {},
   "outputs": [
    {
     "data": {
      "text/html": [
       "<img style=\"max-width:100%%;max-height:100%%;\" src=\"data:image/png;base64,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\"><br>"
      ],
      "text/plain": [
       "<yt.visualization.plot_window.AxisAlignedSlicePlot at 0x7f19bf8907f0>"
      ]
     },
     "metadata": {},
     "output_type": "display_data"
    }
   ],
   "source": [
    "ds = yt.load( './plotfiles/plt00000/' ) # Create a dataset object\n",
    "sl = yt.SlicePlot(ds, 2, 'Ex', aspect=1) # Create a sliceplot object\n",
    "#sl.annotate_particles(width=(10.e-6, 'm'), p_size=2, ptype='beam', col='black')\n",
    "#sl.annotate_grids() # Show grids\n",
    "sl.show() # Show the plot\n",
    "# sl.save('./toto.png')"
   ]
  },
  {
   "cell_type": "markdown",
   "metadata": {},
   "source": [
    "### Store quantities in numpy arrays, and plot with matplotlib"
   ]
  },
  {
   "cell_type": "code",
   "execution_count": null,
   "metadata": {},
   "outputs": [],
   "source": [
    "# Get field quantities\n",
    "all_data_level_0 = ds.covering_grid(level=0,left_edge=ds.domain_left_edge, dims=ds.domain_dimensions)\n",
    "Bx = all_data_level_0['boxlib', 'Ex'].v.squeeze()\n",
    "Dx = ds.domain_width/ds.domain_dimensions\n",
    "extent = [ds.domain_left_edge[ds.dimensionality-1], ds.domain_right_edge[ds.dimensionality-1],\n",
    "          ds.domain_left_edge[0], ds.domain_right_edge[0] ]\n",
    "\n",
    "# Get particle quantities\n",
    "ad = ds.all_data()\n",
    "x = ad['beam', 'particle_position_x'].v\n",
    "z = ad['beam', 'particle_position_y'].v\n",
    "\n",
    "# Plot image\n",
    "plt.figure()\n",
    "plt.imshow(Bx, extent=extent)\n",
    "plt.scatter(z,x,s=.1,c='k')\n",
    "\n",
    "# Print all available quantities\n",
    "ds.field_list"
   ]
  },
  {
   "cell_type": "markdown",
   "metadata": {},
   "source": [
    "## Read data back-transformed to the lab frame when the simulation runs in the boosted frame (example: 2D run)"
   ]
  },
  {
   "cell_type": "code",
   "execution_count": null,
   "metadata": {},
   "outputs": [],
   "source": [
    "# read_raw_data.py is located in warpx/Tools.\n",
    "import os, glob\n",
    "import read_raw_data"
   ]
  },
  {
   "cell_type": "code",
   "execution_count": null,
   "metadata": {},
   "outputs": [],
   "source": [
    "species = 'beam'\n",
    "iteration = 1\n",
    "field = 'Ex'\n",
    "\n",
    "snapshot = './lab_frame_data/' + 'snapshot' + str(iteration).zfill(5)\n",
    "header   = './lab_frame_data/Header'\n",
    "allrd, info = read_raw_data.read_lab_snapshot(snapshot, header) # Read field data\n",
    "F = allrd[field]\n",
    "print( \"Available info: \", *list(info.keys()) )\n",
    "print(\"Available fields: \", info['field_names'])\n",
    "nx = info['nx']\n",
    "nz = info['nz']\n",
    "x = info['x']\n",
    "z = info['z']\n",
    "xbo  = read_raw_data.get_particle_field(snapshot, species, 'x') # Read particle data\n",
    "ybo  = read_raw_data.get_particle_field(snapshot, species, 'y')\n",
    "zbo  = read_raw_data.get_particle_field(snapshot, species, 'z')\n",
    "uzbo = read_raw_data.get_particle_field(snapshot, species, 'uz')\n",
    "\n",
    "plt.figure(figsize=(6, 3))\n",
    "extent = np.array([info['zmin'], info['zmax'], info['xmin'], info['xmax']])\n",
    "plt.imshow(F, aspect='auto', extent=extent, cmap='seismic')\n",
    "plt.colorbar()\n",
    "plt.plot(zbo, xbo, 'g.', markersize=1.)\n"
   ]
  },
  {
   "cell_type": "markdown",
   "metadata": {},
   "source": [
    "## Read back-transformed data with hdf5 format (example: 3D run)"
   ]
  },
  {
   "cell_type": "code",
   "execution_count": null,
   "metadata": {},
   "outputs": [],
   "source": [
    "import h5py\n",
    "import matplotlib.pyplot as plt\n",
    "f = h5py.File('HDF5_lab_frame_data/snapshot00003', 'r')\n",
    "print( list(f.keys()) )\n",
    "# plt.figure()\n",
    "plt.imshow(f['Ey'][:,,:])"
   ]
  }
 ],
 "metadata": {
  "anaconda-cloud": {},
  "kernelspec": {
   "display_name": "Python 3",
   "language": "python",
   "name": "python3"
  },
  "language_info": {
   "codemirror_mode": {
    "name": "ipython",
    "version": 3
   },
   "file_extension": ".py",
   "mimetype": "text/x-python",
   "name": "python",
   "nbconvert_exporter": "python",
   "pygments_lexer": "ipython3",
   "version": "3.5.2"
  },
  "widgets": {
   "state": {
    "11d243e9f5074fe1b115949d174d59de": {
     "views": [
      {
       "cell_index": 6
      }
     ]
    }
   },
   "version": "1.2.0"
  }
 },
 "nbformat": 4,
 "nbformat_minor": 1
}
