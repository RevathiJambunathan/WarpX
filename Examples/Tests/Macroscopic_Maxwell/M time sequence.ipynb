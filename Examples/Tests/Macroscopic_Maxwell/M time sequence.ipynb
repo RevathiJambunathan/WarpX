{
 "cells": [
  {
   "cell_type": "code",
   "execution_count": 35,
   "metadata": {},
   "outputs": [
    {
     "name": "stdout",
     "output_type": "stream",
     "text": [
      "3.6.9\n",
      "plotted # of time step 100\n",
      "x cell # 8\n"
     ]
    },
    {
     "data": {
      "image/png": "[encoded data removed]",
      "text/plain": [
       "<Figure size 576x288 with 1 Axes>"
      ]
     },
     "metadata": {
      "needs_background": "light"
     },
     "output_type": "display_data"
    }
   ],
   "source": [
    "# Import statements\n",
    "from platform import python_version\n",
    "print(python_version())\n",
    "import yt ; \n",
    "yt.funcs.mylog.setLevel(50)\n",
    "import numpy as np\n",
    "import scipy.constants as scc\n",
    "import matplotlib.pyplot as plt\n",
    "import matplotlib.pylab as pylab\n",
    "plt.rcParams['axes.labelsize'] = 24\n",
    "plt.rcParams['xtick.labelsize'] = 20\n",
    "plt.rcParams['ytick.labelsize'] = 20\n",
    "plt.rcParams['axes.titlesize'] = 24\n",
    "import math\n",
    "import cmath\n",
    "import os\n",
    "# save numpy array as csv file\n",
    "# from np import asarray\n",
    "# from np import savetxt\n",
    "\n",
    "#%matplotlib notebook\n",
    "Mx_tarray = np.zeros((3000,1))   # initialize the Mx time sequence for saving data\n",
    "My_tarray = np.zeros((3000,1))   # initialize the My time sequence for saving data\n",
    "Mz_tarray = np.zeros((3000,1))   # initialize the Mz time sequence for saving data\n",
    "t_tarray = np.zeros((3000,1))\n",
    "iteration = 0\n",
    "dt_iter = 10\n",
    "n_element = 0\n",
    "while iteration < 1000 :\n",
    "    ds = yt.load( './diags/plt'+str(iteration).zfill(5) ) # Create a dataset object\\n\",\n",
    "    ad0 = ds.covering_grid(level=0, left_edge=ds.domain_left_edge, dims=ds.domain_dimensions)\n",
    "    nt = iteration\n",
    "    dt = 2.888749802e-13 # changes in different simulation setup\n",
    "    t = iteration * dt\n",
    "    t_tarray[n_element] = t\n",
    "    xCell = ds.domain_dimensions[0]\n",
    "    yCell = ds.domain_dimensions[1]\n",
    "    zCell = ds.domain_dimensions[2]\n",
    "    z_array = ad0['z'].to_ndarray()\n",
    "    Mx_array = ad0['Mx_xface'].to_ndarray()\n",
    "    My_array = ad0['My_yface'].to_ndarray()\n",
    "    Mz_array = ad0['Mz_zface'].to_ndarray()\n",
    "    Mx_record = Mx_array[int(xCell/2),int(yCell/2),int(zCell/2)]\n",
    "    My_record = My_array[int(xCell/2),int(yCell/2),int(zCell/2)]\n",
    "    Mz_record = Mz_array[int(xCell/2),int(yCell/2),int(zCell/2)]\n",
    "    Mx_tarray[n_element] = Mx_record\n",
    "    My_tarray[n_element] = My_record\n",
    "    Mz_tarray[n_element] = Mz_record\n",
    "    # print(\"time sequence\", t)\n",
    "    #print(\"Mx\", Mx_record)\n",
    "    #print(\"My\", My_record)\n",
    "    #print(\"Mz\", Mz_record)\n",
    "    #print(\"Ex\", Ex_array)\n",
    "    iteration = iteration + dt_iter\n",
    "    n_element = n_element + 1\n",
    "\n",
    "# savetxt('data.csv', Mx_tarray[1:n_element], delimiter=',')\n",
    "print(\"plotted # of time step\", n_element)\n",
    "plt.figure(figsize=(8,4))\n",
    "plt.plot(t_tarray[1:n_element],Mx_tarray[1:n_element])\n",
    "plt.figure(figsize=(8,4))\n",
    "plt.plot(t_tarray[1:n_element],My_tarray[1:n_element])\n",
    "plt.figure(figsize=(8,4))\n",
    "plt.plot(t_tarray[1:n_element],Mz_tarray[1:n_element])\n",
    "plt.legend([\"Mx\", \"My\", \"Mz\"])\n",
    "print(\"x cell #\", xCell)\n",
    "\n",
    "#plt.ylim(-2, 2)\n",
    "#plt.xlim(-1.5e-6, 1.5000001e-6)\n",
    "#plt.xticks(np.arange(-1.5e-6, 1.500001e-6, step=0.5e-6))\n",
    "#plt.xlabel('z (m)')\n",
    "#plt.ylabel('Mx (V/m)')\n",
    "#max_Mx = max(Mx_array[int(xCell/2), int(yCell/2), int(zCell/2):zCell])\n",
    "#print(max_Mx)\n",
    "#plt.axvspan(192.e-3, 256.e-3, color='green', alpha=0.5)\n",
    "#plt.savefig(str(iteration).zfill(5)+'.png',bbox_inches = \"tight\")\n",
    "    "
   ]
  },
  {
   "cell_type": "code",
   "execution_count": null,
   "metadata": {},
   "outputs": [],
   "source": []
  }
 ],
 "metadata": {
  "kernelspec": {
   "display_name": "Python 3",
   "language": "python",
   "name": "python3"
  },
  "language_info": {
   "codemirror_mode": {
    "name": "ipython",
    "version": 3
   },
   "file_extension": ".py",
   "mimetype": "text/x-python",
   "name": "python",
   "nbconvert_exporter": "python",
   "pygments_lexer": "ipython3",
   "version": "3.6.9"
  }
 },
 "nbformat": 4,
 "nbformat_minor": 4
}
