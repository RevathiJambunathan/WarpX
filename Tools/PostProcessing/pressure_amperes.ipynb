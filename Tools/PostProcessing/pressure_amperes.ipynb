{
 "cells": [
  {
   "cell_type": "code",
   "execution_count": null,
   "id": "c4518c0d-b60b-4d76-9f85-a04230712bcf",
   "metadata": {},
   "outputs": [],
   "source": [
    "import sys\n",
    "sys.path.append(\"/ccs/home/klion/python_lib\")"
   ]
  },
  {
   "cell_type": "code",
   "execution_count": null,
   "id": "3ff8cc4e-3ab3-4460-b471-cdecc24539f1",
   "metadata": {},
   "outputs": [],
   "source": [
    "import numpy as np\n",
    "import yt\n",
    "import matplotlib.pyplot as plt\n",
    "import consts as c\n",
    "import si_consts as s\n",
    "import load_fonts as lf"
   ]
  },
  {
   "cell_type": "code",
   "execution_count": null,
   "id": "a83ca8aa-a635-44e3-801d-b8b221910e91",
   "metadata": {},
   "outputs": [],
   "source": [
    "ds = yt.load('/gpfs/alpine/proj-shared/csc308/klion/recon_eqbm/diags/diags00001/')"
   ]
  },
  {
   "cell_type": "code",
   "execution_count": null,
   "id": "062c6e8f-1012-48b9-8d78-6d790fe75127",
   "metadata": {},
   "outputs": [],
   "source": [
    "ad0 = ds.covering_grid(level=0, left_edge=ds.domain_left_edge, dims=ds.domain_dimensions)\n",
    "\n",
    "ad = ds.all_data()\n",
    "rho = ad0['boxlib', 'rho'].to_ndarray()[:,:,0]\n",
    "rhoe = ad0['boxlib', 'rho_electrons'].to_ndarray()[:,:,0]\n",
    "jy = ad0['boxlib', 'jy'].to_ndarray()[:,:,0]\n",
    "Bz = ad0['boxlib', 'Bz'].to_ndarray()[:,:,0]\n",
    "x = ad0['boxlib', 'x'].to_ndarray()[:,:,0]\n",
    "y = ad0['boxlib', 'y'].to_ndarray()[:,:,0]\n",
    "x_line = x[:,0]\n",
    "y_line = y[0,:]\n",
    "dx = x_line[1] - x_line[0]\n",
    "dy = y_line[1] - y_line[0]\n",
    "x_edges = np.zeros(len(x_line)+1)\n",
    "y_edges = np.zeros(len(y_line)+1)\n",
    "x_edges[1:] = x_line + dx / 2\n",
    "y_edges[1:] = y_line + dy / 2\n",
    "x_edges[0] = x_line[0] - dx / 2\n",
    "y_edges[0] = y_line[0] - dy / 2\n",
    "xcs = x_edges[-1]/2\n",
    "y_quar = y_edges[-1]/2\n",
    "thresh = dx*4\n",
    "nx = len(x_line)\n",
    "ny = len(y_line)"
   ]
  },
  {
   "cell_type": "code",
   "execution_count": null,
   "id": "c2460fe3-d192-459f-9a64-7e3c4ee71eeb",
   "metadata": {},
   "outputs": [],
   "source": [
    "def center(pfilter, data):\n",
    "    filter = np.abs(data[(pfilter.filtered_type, \"particle_position_y\")]) < thresh\n",
    "    return filter\n",
    "\n",
    "yt.add_particle_filter(\n",
    "    \"center\", function=center, filtered_type=\"all\", requires=[\"particle_position_y\"]\n",
    ")\n",
    "ds.add_particle_filter(\"center\")\n",
    "\n",
    "def top_half(pfilter, data):\n",
    "    filter = np.abs(data[(pfilter.filtered_type, \"particle_position_y\")] - y_quar) < thresh\n",
    "    return filter\n",
    "\n",
    "yt.add_particle_filter(\n",
    "    \"top_half\", function=center, filtered_type=\"all\", requires=[\"particle_position_y\"]\n",
    ")\n",
    "ds.add_particle_filter(\"top_half\")\n",
    "\n",
    "def bottom_half(pfilter, data):\n",
    "    filter = np.abs(data[(pfilter.filtered_type, \"particle_position_y\")] + y_quar) < thresh\n",
    "    return filter\n",
    "\n",
    "yt.add_particle_filter(\n",
    "    \"bottom_half\", function=center, filtered_type=\"all\", requires=[\"particle_position_y\"]\n",
    ")\n",
    "ds.add_particle_filter(\"bottom_half\")"
   ]
  },
  {
   "cell_type": "code",
   "execution_count": null,
   "id": "7c5a2050-a4fd-49e8-b0ac-6d34605d9960",
   "metadata": {},
   "outputs": [],
   "source": [
    "eta = 200\n",
    "B0 = 0.4175177341\n",
    "nbe = 5.67917e16\n",
    "nde = nbe * 5.\n",
    "lambda_e = s.c / s.e * (s.me * s.e0 / nde) ** 0.5\n",
    "theor_tot = B0 ** 2 / s.mu0 * (4 + eta) / (2 * eta)"
   ]
  },
  {
   "cell_type": "code",
   "execution_count": null,
   "id": "e14cbb60-e804-44d4-8ca7-ec58b6138286",
   "metadata": {},
   "outputs": [],
   "source": [
    "particle_set = 'center'\n",
    "e_px = ad[particle_set, 'particle_momentum_x'].to_ndarray()\n",
    "e_py = ad[particle_set, 'particle_momentum_y'].to_ndarray()\n",
    "e_pz = ad[particle_set, 'particle_momentum_z'].to_ndarray()\n",
    "e_x = ad[particle_set, 'particle_position_x'].to_ndarray()\n",
    "e_y = ad[particle_set, 'particle_position_y'].to_ndarray()\n",
    "e_w = ad[particle_set, 'particle_weight'].to_ndarray()\n",
    "\n",
    "g = np.sqrt(1 + (e_px ** 2 + e_py ** 2 + e_pz ** 2)/(s.me*s.c)**2)\n",
    "betax = e_px / s.me / s.c / g\n",
    "part_pres = s.me * e_w * betax ** 2 * g * s.c ** 2\n",
    "\n",
    "i_x = np.floor((e_x - x_edges[0]) / dx)\n",
    "i_y = np.floor((e_y - y_edges[0]) / dy)\n",
    "\n",
    "d_vol = dx * (max(e_y) - min(e_y))"
   ]
  },
  {
   "cell_type": "markdown",
   "id": "b6b45346-e32a-42a2-9120-1896f583f54b",
   "metadata": {},
   "source": [
    "#### Pressure Balance Verification"
   ]
  },
  {
   "cell_type": "code",
   "execution_count": null,
   "id": "c309fdb0-58fb-4ed8-8dbf-1f62587405c2",
   "metadata": {},
   "outputs": [],
   "source": [
    "pres = np.zeros(len(x_line))\n",
    "for i_p in range(len(e_px)):\n",
    "    pres[int(i_x[i_p])] += part_pres[i_p] / d_vol"
   ]
  },
  {
   "cell_type": "code",
   "execution_count": null,
   "id": "2d8e7079-8b22-4b0e-a1cc-e2228e72a622",
   "metadata": {},
   "outputs": [],
   "source": [
    "plt.plot(x_line, 1e-4 * pres, label=\"thermal\")\n",
    "plt.plot(x_line, 1e-4 * Bz[:,ny//2]**2 / s.mu0/2, label=\"magnetic\")\n",
    "plt.plot(x_line, 1e-4 * (pres + Bz[:,ny//2]**2 / s.mu0/2), label=\"total\")\n",
    "plt.plot(x_line, 1e-4 * np.ones_like(x_line) * theor_tot, color='k', linestyle='--', label=\"theoretical\")\n",
    "plt.xlim(xcs-5 * 0.05, xcs +5 * 0.05) \n",
    "plt.legend()\n",
    "plt.xlabel(\"x [m]\")\n",
    "plt.ylabel(\"pressure [10$^4$ J/m$^3$]\")\n",
    "#plt.savefig(\"warpx_figs/pressure_balance_big_zoom_{}.pdf\".format(particle_set))\n",
    "#plt.clf()"
   ]
  },
  {
   "cell_type": "code",
   "execution_count": null,
   "id": "ce5af33e-affc-4aee-b6e2-1b39991f84bf",
   "metadata": {},
   "outputs": [],
   "source": [
    "plt.plot(x_line, 1e-4 * pres, label=\"thermal\")\n",
    "plt.plot(x_line, 1e-4 * Bz[:,ny//2]**2 / s.mu0/2, label=\"magnetic\")\n",
    "plt.plot(x_line, 1e-4 * (pres + Bz[:,ny//2]**2 / s.mu0/2), label=\"total\")\n",
    "plt.plot(x_line, 1e-4 * np.ones_like(x_line) * theor_tot, color='k', linestyle='--', label=\"theoretical\")\n",
    "plt.xlim(-xcs-5 * 0.05, -xcs +5 * 0.05) \n",
    "plt.legend()\n",
    "plt.xlabel(\"x [m]\")\n",
    "plt.ylabel(\"pressure [10$^4$ J/m$^3$]\")"
   ]
  },
  {
   "cell_type": "code",
   "execution_count": null,
   "id": "edae5f4c-0f3c-495d-99e5-3270e38a8d91",
   "metadata": {},
   "outputs": [],
   "source": [
    "pres_bin = (pres[::4] + pres[1::4] + pres[2::4] + pres[3::4])/4.\n",
    "x_bin = (x_line[::4] + x_line[1::4] + x_line[2::4] + x_line[3::4])/4.\n",
    "Bz_bin = (Bz[::4,ny//4]**2 + Bz[1::4,ny//4]**2 + Bz[2::4,ny//4]**2 + Bz[3::4,ny//4]**2)/4.\n",
    "            \n",
    "plt.plot(x_line, (pres + Bz[:,ny//2]**2 / s.mu0 / 2 -theor_tot) / theor_tot)\n",
    "plt.xlim(xcs-5 * 0.05, xcs +5 * 0.05)\n",
    "plt.ylabel(\"Fractional error in total pressure\")\n",
    "plt.xlabel(\"x [m]\")\n",
    "#plt.savefig(\"warpx_figs/pressure_balance_big_frac_zoom_{}.pdf\".format(particle_set))\n",
    "#plt.show()"
   ]
  },
  {
   "cell_type": "code",
   "execution_count": null,
   "id": "ece31784-eb77-4354-8728-f2a49895efa5",
   "metadata": {},
   "outputs": [],
   "source": [
    "pres_bin = (pres[::4] + pres[1::4] + pres[2::4] + pres[3::4])/4.\n",
    "x_bin = (x_line[::4] + x_line[1::4] + x_line[2::4] + x_line[3::4])/4.\n",
    "Bz_bin = (Bz[::4,ny//4]**2 + Bz[1::4,ny//4]**2 + Bz[2::4,ny//4]**2 + Bz[3::4,ny//4]**2)/4.\n",
    "            \n",
    "plt.plot(x_line, (pres + Bz[:,ny//2]**2 / s.mu0 / 2 -theor_tot) / theor_tot)\n",
    "plt.xlim(-xcs-5 * 0.05, -xcs +5 * 0.05)\n",
    "plt.ylabel(\"Fractional error in total pressure\")\n",
    "plt.xlabel(\"x [m]\")\n",
    "#plt.savefig(\"warpx_figs/pressure_balance_big_frac_zoom_{}.pdf\".format(particle_set))\n",
    "#plt.show()"
   ]
  },
  {
   "cell_type": "code",
   "execution_count": null,
   "id": "487fc390-f924-4d06-a659-6d0c8c050a90",
   "metadata": {},
   "outputs": [],
   "source": [
    "plt.semilogy(x_line, np.abs((pres + Bz[:,ny//2]**2 / s.mu0 / 2 -theor_tot) / theor_tot))\n",
    "plt.ylabel(\"Abs fractional error in total pressure\")\n",
    "plt.xlabel(\"x [m]\")\n",
    "plt.savefig(\"warpx_figs/pressure_balance_big_absfrac_{}.pdf\".format(particle_set))"
   ]
  },
  {
   "cell_type": "markdown",
   "id": "87a4c0e2-73f8-4214-bb14-82c5c28b5d0d",
   "metadata": {},
   "source": [
    "#### Ampere's Law Verification"
   ]
  },
  {
   "cell_type": "code",
   "execution_count": null,
   "id": "97e9f155-009b-4d1e-bef2-041f42bacb8c",
   "metadata": {},
   "outputs": [],
   "source": [
    "dBz_dx = np.diff(Bz, axis=0) / np.diff(x, axis=0)"
   ]
  },
  {
   "cell_type": "code",
   "execution_count": null,
   "id": "42076d47-07ee-4776-bdf8-f1da718adf12",
   "metadata": {},
   "outputs": [],
   "source": [
    "plt.plot(x_line[1:],s.mu0*jy[1:,ny//2])\n",
    "plt.plot(x_line[1:],-dBz_dx[:,ny//2])"
   ]
  },
  {
   "cell_type": "code",
   "execution_count": null,
   "id": "46a69844-b437-4283-8714-fb584a3dc7d7",
   "metadata": {},
   "outputs": [],
   "source": [
    "plt.plot(x_line[1:],s.mu0*jy[1:,ny//2])\n",
    "plt.plot(x_line[1:],-dBz_dx[:,ny//2])\n",
    "plt.xlim(-xcs-5 * 0.05, -xcs +5 * 0.05)\n",
    "plt.ylim(-1,8)"
   ]
  },
  {
   "cell_type": "code",
   "execution_count": null,
   "id": "6dd7cb70-dd43-478e-991f-709c94cdf961",
   "metadata": {},
   "outputs": [],
   "source": [
    "plt.plot(x_line[1:],s.mu0*jy[1:,ny//2])\n",
    "plt.plot(x_line[1:],-dBz_dx[:,ny//2])\n",
    "plt.xlim(xcs-5 * 0.05, xcs +5 * 0.05)\n",
    "plt.ylim(-8,1)"
   ]
  },
  {
   "cell_type": "code",
   "execution_count": null,
   "id": "0e8bcac0-eff0-4670-b5af-36735eafc089",
   "metadata": {},
   "outputs": [],
   "source": [
    "plt.plot(x_line[1:],(s.mu0*jy[1:]+dBz_dx)[:,ny//2]/(B0/(0.05)))\n",
    "plt.xlim(xcs-0.05*5, xcs+0.05*5)\n",
    "plt.axvline(xcs-0.05*2, c='orange')\n",
    "plt.axvline(xcs+0.05*2, c='orange')\n",
    "plt.axvline(xcs, c='orange', linestyle='--')\n",
    "plt.ylabel(\"$(J_y + \\partial_x B_z)/(B_0/\\delta)$\")\n",
    "plt.ylim(-2e-1, 2e-1)\n",
    "plt.xlabel(\"x [m]\")\n",
    "#plt.savefig(\"warpx_figs/amperes_frac_1.pdf\")"
   ]
  },
  {
   "cell_type": "code",
   "execution_count": null,
   "id": "1bb92601-3eea-4c75-a468-7c889185242d",
   "metadata": {},
   "outputs": [],
   "source": [
    "plt.plot(x_line[1:],(s.mu0*jy[1:]+dBz_dx)[:,ny//2]/(B0/(0.05)))\n",
    "plt.xlim(-xcs-0.05*5, -xcs+0.05*5)\n",
    "plt.axvline(-xcs-0.05*2, c='orange')\n",
    "plt.axvline(-xcs+0.05*2, c='orange')\n",
    "plt.axvline(-xcs, c='orange', linestyle='--')\n",
    "plt.ylabel(\"$(J_y + \\partial_x B_z)/(B_0/\\delta)$\")\n",
    "plt.ylim(-2e-1, 2e-1)\n",
    "plt.xlabel(\"x [m]\")"
   ]
  },
  {
   "cell_type": "code",
   "execution_count": null,
   "id": "4adc4d7c-4530-49a0-89db-a47387a00d2f",
   "metadata": {},
   "outputs": [],
   "source": [
    "plt.plot(x_line[1:],(s.mu0*jy[1:]+dBz_dx)[:,ny//2]/dBz_dx[:,ny//2])\n",
    "plt.xlim(xcs-0.05*5, xcs+0.05*5)\n",
    "plt.axvline(xcs-0.05*2, c='orange')\n",
    "plt.axvline(xcs+0.05*2, c='orange')\n",
    "plt.axvline(xcs, c='orange', linestyle='--')\n",
    "plt.ylim(-2e-1, 2e-1)\n",
    "plt.xlabel(\"x [m]\")\n",
    "plt.ylabel(\"$(J_y + \\partial_x B_z)/\\partial_x B_z$\")"
   ]
  },
  {
   "cell_type": "code",
   "execution_count": null,
   "id": "09c3f2ef-60ea-40eb-800f-1d635dec2368",
   "metadata": {},
   "outputs": [],
   "source": [
    "plt.plot(x_line[1:],(s.mu0*jy[1:]+dBz_dx)[:,ny//2]/dBz_dx[:,ny//2])\n",
    "plt.xlim(-xcs-0.05*5, -xcs+0.05*5)\n",
    "plt.axvline(-xcs-0.05*2, c='orange')\n",
    "plt.axvline(-xcs+0.05*2, c='orange')\n",
    "plt.axvline(-xcs, c='orange', linestyle='--')\n",
    "plt.ylim(-2e-1, 2e-1)\n",
    "plt.xlabel(\"x [m]\")\n",
    "plt.ylabel(\"$(J_y + \\partial_x B_z)/\\partial_x B_z$\")\n",
    "#plt.savefig(\"warpx_figs/amperes_frac_2.pdf\")"
   ]
  }
 ],
 "metadata": {
  "kernelspec": {
   "display_name": "reconnection",
   "language": "python",
   "name": "rec_env"
  },
  "language_info": {
   "codemirror_mode": {
    "name": "ipython",
    "version": 3
   },
   "file_extension": ".py",
   "mimetype": "text/x-python",
   "name": "python",
   "nbconvert_exporter": "python",
   "pygments_lexer": "ipython3",
   "version": "3.8.10"
  }
 },
 "nbformat": 4,
 "nbformat_minor": 5
}
